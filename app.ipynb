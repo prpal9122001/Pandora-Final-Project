{
  "nbformat": 4,
  "nbformat_minor": 0,
  "metadata": {
    "colab": {
      "name": "app.ipynb",
      "provenance": [],
      "collapsed_sections": [],
      "mount_file_id": "1avR8iwjy71OP6z-0_mRZQfRHH8NX9lX9",
      "authorship_tag": "ABX9TyMFZONJ0fyeuO7V6BcOtP9N",
      "include_colab_link": true
    },
    "kernelspec": {
      "name": "python3",
      "display_name": "Python 3"
    },
    "language_info": {
      "name": "python"
    }
  },
  "cells": [
    {
      "cell_type": "markdown",
      "metadata": {
        "id": "view-in-github",
        "colab_type": "text"
      },
      "source": [
        "<a href=\"https://colab.research.google.com/github/prpal9122001/Pandora-Final-Project/blob/main/app.ipynb\" target=\"_parent\"><img src=\"https://colab.research.google.com/assets/colab-badge.svg\" alt=\"Open In Colab\"/></a>"
      ]
    },
    {
      "cell_type": "code",
      "source": [
        "!pip install streamlit --q"
      ],
      "metadata": {
        "id": "NnY6XClHqwJU"
      },
      "execution_count": 36,
      "outputs": []
    },
    {
      "cell_type": "code",
      "execution_count": 52,
      "metadata": {
        "id": "H8fXAqoUpxyr",
        "colab": {
          "base_uri": "https://localhost:8080/"
        },
        "outputId": "55776ec4-a649-43d1-85bc-87c278548d9e"
      },
      "outputs": [
        {
          "output_type": "stream",
          "name": "stdout",
          "text": [
            "Overwriting app.py\n"
          ]
        }
      ],
      "source": [
        "%%writefile app.py\n",
        "import pickle\n",
        "import streamlit as st\n",
        "import requests\n",
        "from PIL import Image\n",
        "image = Image.open('/content/drive/MyDrive/Black Retro Line art Video Camera for Movie Cinema Production Logo.png')\n",
        "\n",
        "st.image(image)\n",
        "\n",
        "def fetch_poster(movie_id):\n",
        "    url = \"https://api.themoviedb.org/3/movie/{}?api_key=8265bd1679663a7ea12ac168da84d2e8&language=en-US\".format(movie_id)\n",
        "    data = requests.get(url)\n",
        "    data = data.json()\n",
        "    poster_path = data['poster_path']\n",
        "    full_path = \"https://image.tmdb.org/t/p/w500/\" + poster_path\n",
        "    return full_path\n",
        "\n",
        "def recommend(movie):\n",
        "    index = movies[movies['title'] == movie].index[0]\n",
        "    distances = sorted(list(enumerate(similarity[index])), reverse=True, key=lambda x: x[1])\n",
        "    recommended_movie_names = []\n",
        "    recommended_movie_posters = []\n",
        "    for i in distances[1:6]:\n",
        "        # fetch the movie poster\n",
        "        movie_id = movies.iloc[i[0]].movie_id\n",
        "        recommended_movie_posters.append(fetch_poster(movie_id))\n",
        "        recommended_movie_names.append(movies.iloc[i[0]].title)\n",
        "\n",
        "    return recommended_movie_names,recommended_movie_posters\n",
        "\n",
        "movies = pickle.load(open('/content/drive/MyDrive/MRS2/movie_list (1).pkl','rb'))\n",
        "similarity = pickle.load(open('/content/drive/MyDrive/MRS2/similarity.pkl','rb'))\n",
        "\n",
        "movie_list = movies['title'].values\n",
        "selected_movie = st.selectbox(\n",
        "    \"Feel free to Type or select a movie from the dropdown\",\n",
        "    movie_list\n",
        ")\n",
        "\n",
        "if st.button('Show Recommendation'):\n",
        "    recommended_movie_names,recommended_movie_posters = recommend(selected_movie)\n",
        "    col1, col2, col3, col4, col5 = st.beta_columns(5)\n",
        "    with col1:\n",
        "        st.text(recommended_movie_names[0])\n",
        "        st.image(recommended_movie_posters[0])\n",
        "    with col2:\n",
        "        st.text(recommended_movie_names[1])\n",
        "        st.image(recommended_movie_posters[1])\n",
        "\n",
        "    with col3:\n",
        "        st.text(recommended_movie_names[2])\n",
        "        st.image(recommended_movie_posters[2])\n",
        "    with col4:\n",
        "        st.text(recommended_movie_names[3])\n",
        "        st.image(recommended_movie_posters[3])\n",
        "    with col5:\n",
        "        st.text(recommended_movie_names[4])\n",
        "        st.image(recommended_movie_posters[4])\n",
        "\n",
        "\n"
      ]
    },
    {
      "cell_type": "code",
      "source": [
        "!pip install pyngrok"
      ],
      "metadata": {
        "colab": {
          "base_uri": "https://localhost:8080/"
        },
        "id": "s9iFZQLXrDS7",
        "outputId": "4cdb7d64-1aca-40c3-c426-e685bf9ce2cf"
      },
      "execution_count": 41,
      "outputs": [
        {
          "output_type": "stream",
          "name": "stdout",
          "text": [
            "Looking in indexes: https://pypi.org/simple, https://us-python.pkg.dev/colab-wheels/public/simple/\n",
            "Requirement already satisfied: pyngrok in /usr/local/lib/python3.7/dist-packages (5.1.0)\n",
            "Requirement already satisfied: PyYAML in /usr/local/lib/python3.7/dist-packages (from pyngrok) (3.13)\n"
          ]
        }
      ]
    },
    {
      "cell_type": "code",
      "source": [
        "from pyngrok import ngrok\n",
        "\n",
        "!nohup streamlit run app.py &\n",
        "url = ngrok.connect(port ='8501')\n",
        "print(url)"
      ],
      "metadata": {
        "colab": {
          "base_uri": "https://localhost:8080/"
        },
        "id": "gt2YfoFnrPLp",
        "outputId": "8f1bae52-dd67-4bfc-8e01-f8012190f27d"
      },
      "execution_count": 42,
      "outputs": [
        {
          "output_type": "stream",
          "name": "stdout",
          "text": [
            "nohup: appending output to 'nohup.out'\n",
            "NgrokTunnel: \"http://61ed-104-196-146-29.ngrok.io\" -> \"http://localhost:80\"\n"
          ]
        }
      ]
    },
    {
      "cell_type": "code",
      "source": [
        "!streamlit run app.py & npx localtunnel --port 8501"
      ],
      "metadata": {
        "colab": {
          "base_uri": "https://localhost:8080/"
        },
        "id": "7dsP8ycJryhY",
        "outputId": "eedf3dc4-afd7-4331-cd60-658837ce76d5"
      },
      "execution_count": null,
      "outputs": [
        {
          "output_type": "stream",
          "name": "stdout",
          "text": [
            "2022-05-28 15:45:34.482 INFO    numexpr.utils: NumExpr defaulting to 2 threads.\n",
            "\u001b[0m\n",
            "\u001b[34m\u001b[1m  You can now view your Streamlit app in your browser.\u001b[0m\n",
            "\u001b[0m\n",
            "\u001b[34m  Network URL: \u001b[0m\u001b[1mhttp://172.28.0.2:8501\u001b[0m\n",
            "\u001b[34m  External URL: \u001b[0m\u001b[1mhttp://104.196.146.29:8501\u001b[0m\n",
            "\u001b[0m\n",
            "\u001b[K\u001b[?25hnpx: installed 22 in 3.582s\n",
            "your url is: https://cold-glasses-smile-104-196-146-29.loca.lt\n"
          ]
        }
      ]
    }
  ]
}