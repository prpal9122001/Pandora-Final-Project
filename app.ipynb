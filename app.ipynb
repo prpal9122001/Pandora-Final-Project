{
  "nbformat": 4,
  "nbformat_minor": 0,
  "metadata": {
    "colab": {
      "name": "app.ipynb",
      "provenance": [],
      "collapsed_sections": [],
      "authorship_tag": "ABX9TyPn2EOa23z5XClxNYx8NX1h",
      "include_colab_link": true
    },
    "kernelspec": {
      "name": "python3",
      "display_name": "Python 3"
    },
    "language_info": {
      "name": "python"
    }
  },
  "cells": [
    {
      "cell_type": "markdown",
      "metadata": {
        "id": "view-in-github",
        "colab_type": "text"
      },
      "source": [
        "<a href=\"https://colab.research.google.com/github/prpal9122001/Pandora-Final-Project/blob/main/app.ipynb\" target=\"_parent\"><img src=\"https://colab.research.google.com/assets/colab-badge.svg\" alt=\"Open In Colab\"/></a>"
      ]
    },
    {
      "cell_type": "markdown",
      "source": [
        "## **Using localtunnel !!**\n",
        "\n"
      ],
      "metadata": {
        "id": "v4c4cgumH2z5"
      }
    },
    {
      "cell_type": "markdown",
      "source": [
        "We will be using Local Tunnel today for making our python file work on streamlit.\n",
        "\n",
        "Local Tunnel (localtunnel) exposes your localhost to the world for easy testing and sharing! We don't have to mess with DNS or deploy just to test out our app.\n",
        "\n",
        "Great for working with browser testing tools like browserling or external api callback services like twilio which require a public url for callbacks."
      ],
      "metadata": {
        "id": "_V5QPL9sGIzJ"
      }
    },
    {
      "cell_type": "markdown",
      "source": [
        "==  Before going further make sure you have **uploaded both the pickle files Movie_list().pkl,similarity().pkl and LOGO.png** in your google drive.  =="
      ],
      "metadata": {
        "id": "Uevg-_UFIMN3"
      }
    },
    {
      "cell_type": "markdown",
      "source": [
        "=== Now **mount google drive in this notebook as well** using same function in sidebar ===\n",
        "\n",
        "\n",
        "\n",
        "![Screen Shot 2022-05-29 at 1.04.09 AM.png](data:image/png;base64,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)"
      ],
      "metadata": {
        "id": "mCtx4mnEJguE"
      }
    },
    {
      "cell_type": "markdown",
      "source": [
        "# Installing required Libraries!!"
      ],
      "metadata": {
        "id": "BTm82BtdLxFy"
      }
    },
    {
      "cell_type": "code",
      "source": [
        "#installing streamlit\n",
        "\n",
        "!pip install streamlit --q"
      ],
      "metadata": {
        "id": "NnY6XClHqwJU"
      },
      "execution_count": 4,
      "outputs": []
    },
    {
      "cell_type": "markdown",
      "source": [
        "# **Writing files!!**\n",
        "Again make sure both the pickle files and logo.png are uploaded in your google drive and that drive is mounted in this notebook."
      ],
      "metadata": {
        "id": "lDPL9lZXL73N"
      }
    },
    {
      "cell_type": "code",
      "execution_count": 10,
      "metadata": {
        "id": "H8fXAqoUpxyr",
        "colab": {
          "base_uri": "https://localhost:8080/"
        },
        "outputId": "3c0b9bed-aa98-48f0-d95b-2e76a9dc32b1"
      },
      "outputs": [
        {
          "output_type": "stream",
          "name": "stdout",
          "text": [
            "Overwriting app.py\n"
          ]
        }
      ],
      "source": [
        "#writing file\n",
        "%%writefile app.py\n",
        "import pickle\n",
        "import streamlit as st\n",
        "import requests\n",
        "\n",
        "#adding the logo by copying it's path and pasting here\n",
        "from PIL import Image\n",
        "image = Image.open('/content/drive/MyDrive/Logo.png')\n",
        "\n",
        "st.image(image)\n",
        "\n",
        "def fetch_poster(movie_id):\n",
        "    url = \"https://api.themoviedb.org/3/movie/{}?api_key=8265bd1679663a7ea12ac168da84d2e8&language=en-US\".format(movie_id)\n",
        "    data = requests.get(url)\n",
        "    data = data.json()\n",
        "    poster_path = data['poster_path']\n",
        "    full_path = \"https://image.tmdb.org/t/p/w500/\" + poster_path\n",
        "    return full_path\n",
        "\n",
        "def recommend(movie):\n",
        "    index = movies[movies['title'] == movie].index[0]\n",
        "    distances = sorted(list(enumerate(similarity[index])), reverse=True, key=lambda x: x[1])\n",
        "    recommended_movie_names = []\n",
        "    recommended_movie_posters = []\n",
        "    for i in distances[1:6]:\n",
        "        # fetch the movie poster\n",
        "        movie_id = movies.iloc[i[0]].movie_id\n",
        "        recommended_movie_posters.append(fetch_poster(movie_id))\n",
        "        recommended_movie_names.append(movies.iloc[i[0]].title)\n",
        "\n",
        "    return recommended_movie_names,recommended_movie_posters\n",
        "  \n",
        "#fetching modules by coying their path and pasting here\n",
        "\n",
        "movies = pickle.load(open('/content/drive/MyDrive/MRS2/movie_list (1).pkl','rb'))\n",
        "similarity = pickle.load(open('/content/drive/MyDrive/MRS2/similarity.pkl','rb'))\n",
        "\n",
        "movie_list = movies['title'].values\n",
        "selected_movie = st.selectbox(\n",
        "    \"Feel free to Type or select a movie from the dropdown\",\n",
        "    movie_list\n",
        ")\n",
        "\n",
        "if st.button('Show Recommendation'):\n",
        "    recommended_movie_names,recommended_movie_posters = recommend(selected_movie)\n",
        "    col1, col2, col3, col4, col5 = st.beta_columns(5)\n",
        "    with col1:\n",
        "        st.text(recommended_movie_names[0])\n",
        "        st.image(recommended_movie_posters[0])\n",
        "    with col2:\n",
        "        st.text(recommended_movie_names[1])\n",
        "        st.image(recommended_movie_posters[1])\n",
        "\n",
        "    with col3:\n",
        "        st.text(recommended_movie_names[2])\n",
        "        st.image(recommended_movie_posters[2])\n",
        "    with col4:\n",
        "        st.text(recommended_movie_names[3])\n",
        "        st.image(recommended_movie_posters[3])\n",
        "    with col5:\n",
        "        st.text(recommended_movie_names[4])\n",
        "        st.image(recommended_movie_posters[4])\n",
        "\n",
        "\n"
      ]
    },
    {
      "cell_type": "code",
      "source": [
        "from google.colab import drive\n",
        "drive.mount('/content/drive')"
      ],
      "metadata": {
        "colab": {
          "base_uri": "https://localhost:8080/"
        },
        "id": "oxnndfyme-VX",
        "outputId": "9bea38b5-7439-48a5-a428-9590bd780ec0"
      },
      "execution_count": 6,
      "outputs": [
        {
          "output_type": "stream",
          "name": "stdout",
          "text": [
            "Drive already mounted at /content/drive; to attempt to forcibly remount, call drive.mount(\"/content/drive\", force_remount=True).\n"
          ]
        }
      ]
    },
    {
      "cell_type": "markdown",
      "source": [
        "# Installing pyngrok!!"
      ],
      "metadata": {
        "id": "BRZiOxBIMDZY"
      }
    },
    {
      "cell_type": "code",
      "source": [
        "!pip install pyngrok"
      ],
      "metadata": {
        "id": "s9iFZQLXrDS7",
        "colab": {
          "base_uri": "https://localhost:8080/"
        },
        "outputId": "b0b33ad5-0727-442c-9b2d-2f0b5ca5eeb6"
      },
      "execution_count": 11,
      "outputs": [
        {
          "output_type": "stream",
          "name": "stdout",
          "text": [
            "Looking in indexes: https://pypi.org/simple, https://us-python.pkg.dev/colab-wheels/public/simple/\n",
            "Requirement already satisfied: pyngrok in /usr/local/lib/python3.7/dist-packages (5.1.0)\n",
            "Requirement already satisfied: PyYAML in /usr/local/lib/python3.7/dist-packages (from pyngrok) (3.13)\n"
          ]
        }
      ]
    },
    {
      "cell_type": "code",
      "source": [
        "from pyngrok import ngrok\n",
        "\n",
        "!nohup streamlit run app.py &\n",
        "url = ngrok.connect(port ='8501')\n",
        "print(url)"
      ],
      "metadata": {
        "id": "gt2YfoFnrPLp",
        "colab": {
          "base_uri": "https://localhost:8080/"
        },
        "outputId": "777afbdc-7703-44d5-fb92-97dc6fea0275"
      },
      "execution_count": 12,
      "outputs": [
        {
          "output_type": "stream",
          "name": "stdout",
          "text": [
            "nohup: appending output to 'nohup.out'\n",
            "NgrokTunnel: \"http://8677-35-203-188-254.ngrok.io\" -> \"http://localhost:80\"\n"
          ]
        }
      ]
    },
    {
      "cell_type": "markdown",
      "source": [
        "# Generating URL for our Streamlit app!!\n",
        "\n",
        "**If facing any error make sure to rerun this cell again and this url is one time therefore it should be run everytime you need to view your Streamlit app.**\n"
      ],
      "metadata": {
        "id": "e8WKGY00MMQU"
      }
    },
    {
      "cell_type": "code",
      "source": [
        "#select the link which says \"your url is:\" to view the app\n",
        "#also it will take time if the system user is working on is macbook with not secure protection\n",
        "!streamlit run app.py & npx localtunnel --port 8501"
      ],
      "metadata": {
        "colab": {
          "base_uri": "https://localhost:8080/"
        },
        "id": "7dsP8ycJryhY",
        "outputId": "f213defd-26d0-4cdb-b474-35df15e4e6d8"
      },
      "execution_count": null,
      "outputs": [
        {
          "output_type": "stream",
          "name": "stdout",
          "text": [
            "2022-05-28 21:10:33.538 INFO    numexpr.utils: NumExpr defaulting to 2 threads.\n",
            "\u001b[K\u001b[?25hnpx: installed 22 in 2.59s\n",
            "your url is: https://funny-bushes-judge-35-203-188-254.loca.lt\n",
            "\u001b[0m\n",
            "\u001b[34m\u001b[1m  You can now view your Streamlit app in your browser.\u001b[0m\n",
            "\u001b[0m\n",
            "\u001b[34m  Network URL: \u001b[0m\u001b[1mhttp://172.28.0.2:8501\u001b[0m\n",
            "\u001b[34m  External URL: \u001b[0m\u001b[1mhttp://35.203.188.254:8501\u001b[0m\n",
            "\u001b[0m\n"
          ]
        }
      ]
    }
  ]
}